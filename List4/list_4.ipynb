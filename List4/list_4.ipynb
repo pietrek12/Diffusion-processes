{
 "cells": [
  {
   "cell_type": "markdown",
   "metadata": {},
   "source": [
    "# List 4"
   ]
  },
  {
   "cell_type": "code",
   "execution_count": 11,
   "metadata": {},
   "outputs": [],
   "source": [
    "import random\n",
    "import matplotlib.pyplot as plt\n",
    "import networkx as nx\n",
    "import imageio\n",
    "import os\n",
    "import shutil\n",
    "import numpy as np"
   ]
  },
  {
   "cell_type": "markdown",
   "metadata": {},
   "source": [
    "## Task 1"
   ]
  },
  {
   "cell_type": "code",
   "execution_count": 12,
   "metadata": {},
   "outputs": [],
   "source": [
    "def random_walk_square_lattice(number_of_steps, x_coordinate=0, y_coordinate=0):    \n",
    "    agent_positions = []\n",
    "    initial_position = (x_coordinate, y_coordinate)\n",
    "    agent_positions.append(initial_position)\n",
    "    directions = [(1,0), (0,1), (-1,0), (0,-1)]\n",
    "    for i in range(1,number_of_steps+1):\n",
    "        direction = random.choice(directions)\n",
    "        agent_position = (agent_positions[i-1][0] + direction[0], agent_positions[i-1][1] + direction[1])\n",
    "        agent_positions.append(agent_position)\n",
    "    return agent_positions"
   ]
  },
  {
   "cell_type": "code",
   "execution_count": 13,
   "metadata": {},
   "outputs": [],
   "source": [
    "agent_positios_list = random_walk_square_lattice(100)"
   ]
  },
  {
   "cell_type": "code",
   "execution_count": 14,
   "metadata": {},
   "outputs": [],
   "source": [
    "folder_name = \"img\"\n",
    "if os.path.exists(folder_name):\n",
    "    shutil.rmtree(folder_name)\n",
    "os.makedirs(folder_name)"
   ]
  },
  {
   "cell_type": "code",
   "execution_count": 15,
   "metadata": {},
   "outputs": [],
   "source": [
    "x_data = [i[0] for i in agent_positios_list]\n",
    "y_data = [i[1] for i in agent_positios_list]\n",
    "for i in range(len(agent_positios_list)):\n",
    "    plt.scatter(x_data[i], y_data[i], color = 'black', marker = 'o')\n",
    "    plt.plot(x_data[:i+1], y_data[:i+1], color = 'gray')\n",
    "    plt.xlim([min(x_data)-4, max(x_data) + 4])\n",
    "    plt.ylim([min(y_data)-4, max(y_data) + 4])\n",
    "    plt.title(f'agent position at step {i}',\n",
    "              fontsize=14)\n",
    "    plt.savefig(f'img/img_{i}.png', \n",
    "                transparent = False,  \n",
    "                facecolor = 'white'\n",
    "               )\n",
    "               \n",
    "    plt.close()"
   ]
  },
  {
   "cell_type": "code",
   "execution_count": 16,
   "metadata": {},
   "outputs": [],
   "source": [
    "sorted_files = sorted(os.listdir('img'), key=lambda x: int(x.split('_')[1].split('.')[0]) if '_' in x else -1)"
   ]
  },
  {
   "cell_type": "code",
   "execution_count": 17,
   "metadata": {},
   "outputs": [],
   "source": [
    "images = []\n",
    "for filename in sorted_files:\n",
    "    if filename.endswith('.png'):  \n",
    "        filepath = os.path.join('img', filename)\n",
    "        image = imageio.v2.imread(filepath)\n",
    "        images.append(image)"
   ]
  },
  {
   "cell_type": "code",
   "execution_count": 18,
   "metadata": {},
   "outputs": [],
   "source": [
    "imageio.mimsave('agent_1.gif', images, format='gif', duration=0.01)"
   ]
  },
  {
   "cell_type": "markdown",
   "metadata": {},
   "source": [
    "## Task 2"
   ]
  },
  {
   "cell_type": "code",
   "execution_count": 19,
   "metadata": {},
   "outputs": [],
   "source": [
    "def random_walk_pearson(steps, x_cord=0, y_cord=0):\n",
    "    positions = []\n",
    "    initial_position = (x_cord, y_cord)\n",
    "    positions.append(initial_position)\n",
    "    for i in range(1,steps+1):\n",
    "        angle = np.random.uniform(0, 2*np.pi)\n",
    "        x = positions[i-1][0] + np.cos(angle)\n",
    "        y = positions[i-1][1] + np.sin(angle)\n",
    "        positions.append((x, y)) \n",
    "    return positions"
   ]
  },
  {
   "cell_type": "code",
   "execution_count": 20,
   "metadata": {},
   "outputs": [],
   "source": [
    "pearson_walk = random_walk_pearson(5000)"
   ]
  },
  {
   "cell_type": "code",
   "execution_count": 21,
   "metadata": {},
   "outputs": [],
   "source": [
    "def fraction_of_time_steps_distriution(N, MC):\n",
    "    A_N_list = np.zeros(MC)\n",
    "    B_N_list = np.zeros(MC)\n",
    "    for i in range(MC):\n",
    "        trajectory = random_walk_pearson(N)\n",
    "        right_half = [j for j in trajectory if j[0] > 0]\n",
    "        first_quadrant = [j for j in trajectory if (j[0] > 0 and j[1] > 0)]\n",
    "        A_N_list[i] = len(right_half)/N\n",
    "        B_N_list[i] = len(first_quadrant)/N\n",
    "    return A_N_list, B_N_list"
   ]
  },
  {
   "cell_type": "code",
   "execution_count": 22,
   "metadata": {},
   "outputs": [],
   "source": [
    "A_N_distribution = fraction_of_time_steps_distriution(1000, 1000)[0]\n",
    "B_N_distribution = fraction_of_time_steps_distriution(1000, 1000)[1]"
   ]
  },
  {
   "cell_type": "code",
   "execution_count": 23,
   "metadata": {},
   "outputs": [
    {
     "data": {
      "image/png": "[encoded data removed]",
      "text/plain": [
       "<Figure size 1440x504 with 2 Axes>"
      ]
     },
     "metadata": {
      "needs_background": "light"
     },
     "output_type": "display_data"
    }
   ],
   "source": [
    "fig, axs = plt.subplots(1, 2, figsize=(20, 7))\n",
    "axs[0].hist(A_N_distribution, density = True, bins=30)\n",
    "axs[0].set_title('The fraction of time steps when the walker is in right half')\n",
    "axs[1].hist(B_N_distribution, density = True, bins=30)\n",
    "axs[1].set_title('The fraction of time steps when the walker is in right half')\n",
    "plt.show()"
   ]
  },
  {
   "cell_type": "code",
   "execution_count": 24,
   "metadata": {},
   "outputs": [],
   "source": [
    "N = 1000\n",
    "trajectories_example = [random_walk_pearson(N) for _ in range(9)]\n",
    "x_data_list = []\n",
    "y_data_list = []\n",
    "for i in range(len(trajectories_example)):\n",
    "    data_x = [j[0] for j in trajectories_example[i]]\n",
    "    data_y = [j[1] for j in trajectories_example[i]]\n",
    "    x_data_list.append(data_x)\n",
    "    y_data_list.append(data_y)"
   ]
  },
  {
   "cell_type": "code",
   "execution_count": 25,
   "metadata": {
    "scrolled": true
   },
   "outputs": [],
   "source": [
    "folder_name_pearson = \"img_pearson\"\n",
    "if os.path.exists(folder_name_pearson):\n",
    "    shutil.rmtree(folder_name_pearson)\n",
    "os.makedirs(folder_name_pearson)"
   ]
  },
  {
   "cell_type": "code",
   "execution_count": 26,
   "metadata": {},
   "outputs": [],
   "source": [
    "for i in range(N):    \n",
    "    fig, axs = plt.subplots(3, 3, figsize=(17, 15))\n",
    "    fig.suptitle(f'positions at step {i}',  fontsize=20)\n",
    "\n",
    "    axs[0,0].plot(x_data_list[0][:i+1], y_data_list[0][:i+1], color = 'gray')\n",
    "    axs[0,0].set_xlim([min(x_data_list[0])-4, max(x_data_list[0]) + 4])\n",
    "    axs[0,0].set_ylim([min(y_data_list[0])-4, max(y_data_list[0]) + 4])\n",
    "    axs[0,0].set_title(\"trajectory 1\")\n",
    "\n",
    "    axs[0,1].plot(x_data_list[1][:i+1], y_data_list[1][:i+1], color = 'gray')\n",
    "    axs[0,1].set_xlim([min(x_data_list[1])-4, max(x_data_list[1]) + 4])\n",
    "    axs[0,1].set_ylim([min(y_data_list[1])-4, max(y_data_list[1]) + 4])\n",
    "    axs[0,1].set_title(\"trajectory 2\")\n",
    "\n",
    "    axs[0,2].plot(x_data_list[2][:i+1], y_data_list[2][:i+1], color = 'gray')\n",
    "    axs[0,2].set_xlim([min(x_data_list[2])-4, max(x_data_list[2]) + 4])\n",
    "    axs[0,2].set_ylim([min(y_data_list[2])-4, max(y_data_list[2]) + 4])\n",
    "    axs[0,2].set_title(\"trajectory 3\")\n",
    "\n",
    "    axs[1,0].plot(x_data_list[3][:i+1], y_data_list[3][:i+1], color = 'gray')\n",
    "    axs[1,0].set_xlim([min(x_data_list[3])-4, max(x_data_list[3]) + 4])\n",
    "    axs[1,0].set_ylim([min(y_data_list[3])-4, max(y_data_list[3]) + 4])\n",
    "    axs[1,0].set_title(\"trajectory 4\")\n",
    "\n",
    "    axs[1,1].plot(x_data_list[4][:i+1], y_data_list[4][:i+1], color = 'gray')\n",
    "    axs[1,1].set_xlim([min(x_data_list[4])-4, max(x_data_list[4]) + 4])\n",
    "    axs[1,1].set_ylim([min(y_data_list[4])-4, max(y_data_list[4]) + 4])\n",
    "    axs[1,1].set_title(\"trajectory 5\")\n",
    "\n",
    "    axs[1,2].plot(x_data_list[5][:i+1], y_data_list[5][:i+1], color = 'gray')\n",
    "    axs[1,2].set_xlim([min(x_data_list[5])-4, max(x_data_list[5]) + 4])\n",
    "    axs[1,2].set_ylim([min(y_data_list[5])-4, max(y_data_list[5]) + 4])\n",
    "    axs[1,2].set_title(\"trajectory 6\")\n",
    "\n",
    "    axs[2,0].plot(x_data_list[6][:i+1], y_data_list[6][:i+1], color = 'gray')\n",
    "    axs[2,0].set_xlim([min(x_data_list[6])-4, max(x_data_list[6]) + 4])\n",
    "    axs[2,0].set_ylim([min(y_data_list[6])-4, max(y_data_list[6]) + 4])\n",
    "    axs[2,0].set_title(\"trajectory 7\")\n",
    "\n",
    "    axs[2,1].plot(x_data_list[7][:i+1], y_data_list[7][:i+1], color = 'gray')\n",
    "    axs[2,1].set_xlim([min(x_data_list[7])-4, max(x_data_list[7]) + 4])\n",
    "    axs[2,1].set_ylim([min(y_data_list[7])-4, max(y_data_list[7]) + 4])\n",
    "    axs[2,1].set_title(\"trajectory 8\")\n",
    "\n",
    "    axs[2,2].plot(x_data_list[8][:i+1], y_data_list[8][:i+1], color = 'gray')\n",
    "    axs[2,2].set_xlim([min(x_data_list[8])-4, max(x_data_list[8]) + 4])\n",
    "    axs[2,2].set_ylim([min(y_data_list[8])-4, max(y_data_list[8]) + 4])\n",
    "    axs[2,2].set_title(\"trajectory 9\")\n",
    "    \n",
    "    plt.savefig(f'img_pearson/ip_{i}.png', \n",
    "                transparent = False,  \n",
    "                facecolor = 'white'\n",
    "               )\n",
    "               \n",
    "    plt.close()"
   ]
  },
  {
   "cell_type": "code",
   "execution_count": 27,
   "metadata": {},
   "outputs": [],
   "source": [
    "sorted_files_pearson = sorted(os.listdir('img_pearson'), key=lambda x: int(x.split('_')[1].split('.')[0]) if '_' in x else -1)"
   ]
  },
  {
   "cell_type": "code",
   "execution_count": 28,
   "metadata": {},
   "outputs": [],
   "source": [
    "images_pearson = []\n",
    "for filename_pearson in sorted_files_pearson:\n",
    "    if filename_pearson.endswith('.png'):  \n",
    "        filepath_pearson = os.path.join('img_pearson', filename_pearson)\n",
    "        image_pearson = imageio.v2.imread(filepath_pearson)\n",
    "        images_pearson.append(image_pearson)"
   ]
  },
  {
   "cell_type": "code",
   "execution_count": 29,
   "metadata": {},
   "outputs": [],
   "source": [
    "imageio.mimsave('pearson.gif', images_pearson, format='gif', duration=30)"
   ]
  },
  {
   "cell_type": "markdown",
   "metadata": {},
   "source": [
    "## Task 3"
   ]
  },
  {
   "cell_type": "code",
   "execution_count": 30,
   "metadata": {},
   "outputs": [],
   "source": [
    "#G = nx.gnp_random_graph(20, 0.2)"
   ]
  },
  {
   "cell_type": "code",
   "execution_count": 31,
   "metadata": {},
   "outputs": [],
   "source": [
    "def graph_walk(graph, N, initial_position):    \n",
    "    graph_positions = []\n",
    "    graph_initial_position = initial_position\n",
    "    graph_positions.append(graph_initial_position)\n",
    "    for i in range(1,N+1):\n",
    "        neighbors_list = [neighbor for neighbor in graph.neighbors(graph_positions[i-1])]\n",
    "        new_position = random.choice(neighbors_list)\n",
    "        graph_positions.append(new_position)\n",
    "    return graph_positions\n",
    "        "
   ]
  },
  {
   "cell_type": "code",
   "execution_count": 32,
   "metadata": {},
   "outputs": [],
   "source": [
    "def create_images_graph(graph, steps, initial):\n",
    "    \n",
    "    path = graph_walk(graph, steps, initial)    \n",
    "    folder_name_graph = \"graph_path\"\n",
    "    if os.path.exists(folder_name_graph):\n",
    "        shutil.rmtree(folder_name_graph)\n",
    "    os.makedirs(folder_name_graph)\n",
    "\n",
    "    set_pos = nx.spring_layout(graph)\n",
    "    edges = list(graph.edges())\n",
    "    edges_colors = ['gray']*len(edges)\n",
    "    edges_and_colors = dict(zip(edges, edges_colors))\n",
    "    nodes = list(graph.nodes())\n",
    "    nodes_colors = ['gray']*len(nodes)\n",
    "    nodes_and_colors = dict(zip(nodes, nodes_colors))\n",
    "    for i in range(len(path)):\n",
    "        node_id = path[i]\n",
    "        nodes_and_colors[node_id] = 'blue'\n",
    "        nodes_sizes = [200 if node == node_id else 70 for node in graph.nodes()]\n",
    "        if i > 0:\n",
    "            edges_and_colors[(path[i], path[i-1])] = 'blue'\n",
    "            edges_and_colors[(path[i-1], path[i])] = 'blue'\n",
    "        plt.figure(figsize=(20,15))\n",
    "        nx.draw_networkx(graph, node_color=list(nodes_and_colors.values()), with_labels=False, edge_color=list(edges_and_colors.values()), pos=set_pos, node_size=nodes_sizes)\n",
    "        plt.title(f'agent position at step {i}',\n",
    "                fontsize=14)\n",
    "        plt.savefig(f'graph_path/imgraph_{i}.png', \n",
    "                    transparent = False,  \n",
    "                    facecolor = 'white'\n",
    "                )\n",
    "        plt.close()\n",
    "        \n",
    "    sorted_files_graph = sorted(os.listdir('graph_path'), key=lambda x: int(x.split('_')[1].split('.')[0]) if '_' in x else -1)\n",
    "    \n",
    "    images_graph = []\n",
    "    for filename_graph in sorted_files_graph:\n",
    "        if filename_graph.endswith('.png'):  \n",
    "            filepath_graph = os.path.join('graph_path', filename_graph)\n",
    "            image_graph = imageio.v2.imread(filepath_graph)\n",
    "            images_graph.append(image_graph)\n",
    "    \n",
    "    shutil.rmtree(folder_name_graph)\n",
    "    \n",
    "    return images_graph"
   ]
  },
  {
   "cell_type": "code",
   "execution_count": 33,
   "metadata": {},
   "outputs": [],
   "source": [
    "G_random = nx.gnp_random_graph(20, 0.2)\n",
    "G_BA = nx.barabasi_albert_graph(20, 2)\n",
    "G_WS = nx.watts_strogatz_graph(20, 4, 0.4)\n",
    "graph_images_random = create_images_graph(G_random, 30, 6)\n",
    "graph_images_BA = create_images_graph(G_BA, 30, 6)\n",
    "graph_images_WS = create_images_graph(G_WS, 30, 6)"
   ]
  },
  {
   "cell_type": "code",
   "execution_count": 34,
   "metadata": {},
   "outputs": [],
   "source": [
    "def create_gif(images, fps, file_name):    \n",
    "    imageio.mimsave(file_name, images, format='gif', duration=(1/fps)*1000)"
   ]
  },
  {
   "cell_type": "code",
   "execution_count": 35,
   "metadata": {},
   "outputs": [],
   "source": [
    "create_gif(graph_images_random, 4, 'graph_walk_random.gif')\n",
    "create_gif(graph_images_BA, 4, 'graph_walk_BA.gif')\n",
    "create_gif(graph_images_WS, 4, 'graph_walk_WS.gif')"
   ]
  },
  {
   "cell_type": "code",
   "execution_count": 36,
   "metadata": {},
   "outputs": [],
   "source": [
    "def avg_hitting_time(graph, initial_node, MC):    \n",
    "    nodes = list(graph.nodes())\n",
    "    distances = [nx.has_path(graph, initial_node, end_node) for end_node in nodes]\n",
    "    distances[initial_node] = 'initial node'\n",
    "    for i in nodes:\n",
    "        if i != initial_node and distances[i] == True:\n",
    "            distances_list = np.zeros(MC)\n",
    "            for j in range(MC):\n",
    "                node = initial_node\n",
    "                path_length = 1\n",
    "                while node != i:\n",
    "                    step = graph_walk(graph, 1, node)\n",
    "                    if step[1] == i:\n",
    "                        node = step[1]\n",
    "                        distances_list[j] = path_length\n",
    "                    else:\n",
    "                        node = step[1]\n",
    "                        path_length += 1\n",
    "                    #print(step)\n",
    "                distances_list[j] = path_length\n",
    "            mean_distance = np.mean(distances_list)\n",
    "            distances[i] = mean_distance\n",
    "            \n",
    "    average_hitting_times = dict(zip(nodes, distances)) \n",
    "    return average_hitting_times       \n"
   ]
  },
  {
   "cell_type": "code",
   "execution_count": 37,
   "metadata": {},
   "outputs": [],
   "source": [
    "G_random_hit = nx.gnp_random_graph(100, 0.2)\n",
    "G_BA_hit = nx.barabasi_albert_graph(100, 2)\n",
    "G_WS_hit = nx.watts_strogatz_graph(100, 4, 0.4)\n",
    "avg_hitting_times_random = avg_hitting_time(G_random_hit, 8, 1000)\n",
    "avg_hitting_times_BA = avg_hitting_time(G_BA_hit, 8, 1000)\n",
    "avg_hitting_times_WS = avg_hitting_time(G_WS_hit, 8, 1000)"
   ]
  },
  {
   "cell_type": "code",
   "execution_count": 38,
   "metadata": {},
   "outputs": [
    {
     "data": {
      "text/plain": [
       "{0: 81.024,\n",
       " 1: 119.563,\n",
       " 2: 99.305,\n",
       " 3: 103.528,\n",
       " 4: 97.45,\n",
       " 5: 106.791,\n",
       " 6: 103.261,\n",
       " 7: 110.06,\n",
       " 8: 'initial node',\n",
       " 9: 96.657,\n",
       " 10: 106.434,\n",
       " 11: 106.256,\n",
       " 12: 84.95,\n",
       " 13: 109.847,\n",
       " 14: 81.4,\n",
       " 15: 88.615,\n",
       " 16: 107.293,\n",
       " 17: 156.004,\n",
       " 18: 113.353,\n",
       " 19: 121.986,\n",
       " 20: 101.542,\n",
       " 21: 97.305,\n",
       " 22: 71.962,\n",
       " 23: 118.445,\n",
       " 24: 82.778,\n",
       " 25: 85.884,\n",
       " 26: 96.003,\n",
       " 27: 86.164,\n",
       " 28: 81.755,\n",
       " 29: 146.272,\n",
       " 30: 106.375,\n",
       " 31: 120.537,\n",
       " 32: 154.694,\n",
       " 33: 101.456,\n",
       " 34: 93.343,\n",
       " 35: 108.891,\n",
       " 36: 106.726,\n",
       " 37: 91.03,\n",
       " 38: 70.349,\n",
       " 39: 274.969,\n",
       " 40: 101.394,\n",
       " 41: 120.533,\n",
       " 42: 112.007,\n",
       " 43: 117.338,\n",
       " 44: 108.039,\n",
       " 45: 131.346,\n",
       " 46: 92.343,\n",
       " 47: 91.997,\n",
       " 48: 96.196,\n",
       " 49: 98.67,\n",
       " 50: 117.278,\n",
       " 51: 89.904,\n",
       " 52: 110.801,\n",
       " 53: 94.647,\n",
       " 54: 117.964,\n",
       " 55: 90.682,\n",
       " 56: 124.195,\n",
       " 57: 104.306,\n",
       " 58: 93.248,\n",
       " 59: 83.013,\n",
       " 60: 100.68,\n",
       " 61: 133.079,\n",
       " 62: 111.132,\n",
       " 63: 105.868,\n",
       " 64: 100.808,\n",
       " 65: 114.614,\n",
       " 66: 80.603,\n",
       " 67: 107.446,\n",
       " 68: 96.852,\n",
       " 69: 82.42,\n",
       " 70: 93.65,\n",
       " 71: 90.591,\n",
       " 72: 134.935,\n",
       " 73: 140.228,\n",
       " 74: 106.624,\n",
       " 75: 89.141,\n",
       " 76: 138.258,\n",
       " 77: 105.041,\n",
       " 78: 128.079,\n",
       " 79: 89.129,\n",
       " 80: 91.302,\n",
       " 81: 101.731,\n",
       " 82: 112.047,\n",
       " 83: 106.388,\n",
       " 84: 103.409,\n",
       " 85: 99.019,\n",
       " 86: 107.74,\n",
       " 87: 119.183,\n",
       " 88: 97.176,\n",
       " 89: 111.891,\n",
       " 90: 116.661,\n",
       " 91: 100.17,\n",
       " 92: 80.216,\n",
       " 93: 106.66,\n",
       " 94: 119.017,\n",
       " 95: 91.041,\n",
       " 96: 83.976,\n",
       " 97: 128.221,\n",
       " 98: 93.79,\n",
       " 99: 131.547}"
      ]
     },
     "execution_count": 38,
     "metadata": {},
     "output_type": "execute_result"
    }
   ],
   "source": [
    "avg_hitting_times_random"
   ]
  },
  {
   "cell_type": "code",
   "execution_count": 39,
   "metadata": {},
   "outputs": [
    {
     "data": {
      "text/plain": [
       "{0: 43.373,\n",
       " 1: 42.971,\n",
       " 2: 163.785,\n",
       " 3: 35.83,\n",
       " 4: 30.038,\n",
       " 5: 217.698,\n",
       " 6: 29.859,\n",
       " 7: 29.704,\n",
       " 8: 'initial node',\n",
       " 9: 82.033,\n",
       " 10: 137.863,\n",
       " 11: 119.519,\n",
       " 12: 43.866,\n",
       " 13: 104.055,\n",
       " 14: 161.475,\n",
       " 15: 173.541,\n",
       " 16: 80.297,\n",
       " 17: 57.834,\n",
       " 18: 92.049,\n",
       " 19: 98.451,\n",
       " 20: 85.939,\n",
       " 21: 92.173,\n",
       " 22: 78.54,\n",
       " 23: 160.326,\n",
       " 24: 214.55,\n",
       " 25: 158.511,\n",
       " 26: 181.954,\n",
       " 27: 130.153,\n",
       " 28: 110.093,\n",
       " 29: 132.121,\n",
       " 30: 185.67,\n",
       " 31: 112.234,\n",
       " 32: 193.723,\n",
       " 33: 117.616,\n",
       " 34: 179.2,\n",
       " 35: 129.49,\n",
       " 36: 288.704,\n",
       " 37: 241.76,\n",
       " 38: 228.726,\n",
       " 39: 127.441,\n",
       " 40: 177.54,\n",
       " 41: 179.664,\n",
       " 42: 259.405,\n",
       " 43: 188.788,\n",
       " 44: 178.093,\n",
       " 45: 218.139,\n",
       " 46: 225.69,\n",
       " 47: 223.575,\n",
       " 48: 188.198,\n",
       " 49: 180.534,\n",
       " 50: 120.192,\n",
       " 51: 208.88,\n",
       " 52: 142.828,\n",
       " 53: 208.309,\n",
       " 54: 238.975,\n",
       " 55: 193.561,\n",
       " 56: 207.922,\n",
       " 57: 247.818,\n",
       " 58: 233.478,\n",
       " 59: 148.804,\n",
       " 60: 258.073,\n",
       " 61: 255.187,\n",
       " 62: 190.686,\n",
       " 63: 302.108,\n",
       " 64: 182.647,\n",
       " 65: 203.738,\n",
       " 66: 216.548,\n",
       " 67: 227.689,\n",
       " 68: 279.875,\n",
       " 69: 289.577,\n",
       " 70: 168.642,\n",
       " 71: 205.364,\n",
       " 72: 270.666,\n",
       " 73: 174.435,\n",
       " 74: 212.196,\n",
       " 75: 158.479,\n",
       " 76: 227.926,\n",
       " 77: 226.273,\n",
       " 78: 219.339,\n",
       " 79: 301.604,\n",
       " 80: 295.775,\n",
       " 81: 205.164,\n",
       " 82: 283.246,\n",
       " 83: 209.482,\n",
       " 84: 211.052,\n",
       " 85: 292.333,\n",
       " 86: 251.682,\n",
       " 87: 225.088,\n",
       " 88: 264.811,\n",
       " 89: 268.635,\n",
       " 90: 222.738,\n",
       " 91: 268.715,\n",
       " 92: 245.488,\n",
       " 93: 251.2,\n",
       " 94: 315.742,\n",
       " 95: 278.673,\n",
       " 96: 307.627,\n",
       " 97: 236.119,\n",
       " 98: 220.982,\n",
       " 99: 283.69}"
      ]
     },
     "execution_count": 39,
     "metadata": {},
     "output_type": "execute_result"
    }
   ],
   "source": [
    "avg_hitting_times_BA"
   ]
  },
  {
   "cell_type": "code",
   "execution_count": 40,
   "metadata": {},
   "outputs": [
    {
     "data": {
      "text/plain": [
       "{0: 167.068,\n",
       " 1: 164.738,\n",
       " 2: 163.873,\n",
       " 3: 141.98,\n",
       " 4: 204.297,\n",
       " 5: 163.576,\n",
       " 6: 121.524,\n",
       " 7: 48.206,\n",
       " 8: 'initial node',\n",
       " 9: 144.626,\n",
       " 10: 79.572,\n",
       " 11: 126.815,\n",
       " 12: 142.11,\n",
       " 13: 104.005,\n",
       " 14: 136.034,\n",
       " 15: 173.644,\n",
       " 16: 107.723,\n",
       " 17: 173.462,\n",
       " 18: 214.565,\n",
       " 19: 237.261,\n",
       " 20: 139.57,\n",
       " 21: 111.425,\n",
       " 22: 177.637,\n",
       " 23: 107.208,\n",
       " 24: 153.266,\n",
       " 25: 170.143,\n",
       " 26: 158.897,\n",
       " 27: 214.492,\n",
       " 28: 188.808,\n",
       " 29: 138.436,\n",
       " 30: 150.4,\n",
       " 31: 129.251,\n",
       " 32: 153.483,\n",
       " 33: 123.525,\n",
       " 34: 162.086,\n",
       " 35: 195.51,\n",
       " 36: 128.393,\n",
       " 37: 130.406,\n",
       " 38: 160.833,\n",
       " 39: 168.782,\n",
       " 40: 238.757,\n",
       " 41: 231.832,\n",
       " 42: 183.959,\n",
       " 43: 169.239,\n",
       " 44: 213.032,\n",
       " 45: 174.702,\n",
       " 46: 166.633,\n",
       " 47: 186.697,\n",
       " 48: 120.8,\n",
       " 49: 152.359,\n",
       " 50: 305.168,\n",
       " 51: 67.897,\n",
       " 52: 316.141,\n",
       " 53: 205.501,\n",
       " 54: 172.467,\n",
       " 55: 188.075,\n",
       " 56: 177.251,\n",
       " 57: 202.896,\n",
       " 58: 87.022,\n",
       " 59: 111.727,\n",
       " 60: 81.761,\n",
       " 61: 286.356,\n",
       " 62: 110.137,\n",
       " 63: 166.334,\n",
       " 64: 201.214,\n",
       " 65: 183.394,\n",
       " 66: 204.296,\n",
       " 67: 110.357,\n",
       " 68: 114.626,\n",
       " 69: 112.923,\n",
       " 70: 238.24,\n",
       " 71: 288.987,\n",
       " 72: 231.753,\n",
       " 73: 179.512,\n",
       " 74: 254.026,\n",
       " 75: 215.091,\n",
       " 76: 171.63,\n",
       " 77: 84.25,\n",
       " 78: 131.829,\n",
       " 79: 185.805,\n",
       " 80: 161.085,\n",
       " 81: 130.328,\n",
       " 82: 183.52,\n",
       " 83: 201.992,\n",
       " 84: 148.493,\n",
       " 85: 198.358,\n",
       " 86: 172.284,\n",
       " 87: 210.54,\n",
       " 88: 151.075,\n",
       " 89: 226.418,\n",
       " 90: 171.376,\n",
       " 91: 170.738,\n",
       " 92: 164.853,\n",
       " 93: 169.723,\n",
       " 94: 305.195,\n",
       " 95: 181.367,\n",
       " 96: 223.066,\n",
       " 97: 127.542,\n",
       " 98: 126.236,\n",
       " 99: 110.449}"
      ]
     },
     "execution_count": 40,
     "metadata": {},
     "output_type": "execute_result"
    }
   ],
   "source": [
    "avg_hitting_times_WS"
   ]
  }
 ],
 "metadata": {
  "kernelspec": {
   "display_name": "Python 3 (ipykernel)",
   "language": "python",
   "name": "python3"
  },
  "language_info": {
   "codemirror_mode": {
    "name": "ipython",
    "version": 3
   },
   "file_extension": ".py",
   "mimetype": "text/x-python",
   "name": "python",
   "nbconvert_exporter": "python",
   "pygments_lexer": "ipython3",
   "version": "3.10.1"
  }
 },
 "nbformat": 4,
 "nbformat_minor": 4
}
