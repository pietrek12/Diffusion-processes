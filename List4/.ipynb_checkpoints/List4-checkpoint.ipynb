{
 "cells": [
  {
   "cell_type": "code",
   "execution_count": 178,
   "id": "07776108",
   "metadata": {},
   "outputs": [],
   "source": [
    "import matplotlib.pyplot as plt\n",
    "import numpy as np\n",
    "import matplotlib as ma\n",
    "import os\n",
    "import shutil\n",
    "import imageio\n",
    "import random\n",
    "import networkx as nx"
   ]
  },
  {
   "cell_type": "markdown",
   "id": "93b7e32c",
   "metadata": {},
   "source": [
    "## Ex1"
   ]
  },
  {
   "cell_type": "code",
   "execution_count": 179,
   "id": "08c2ba5f",
   "metadata": {},
   "outputs": [],
   "source": [
    "def random_walk(steps):\n",
    "    '''\n",
    "    Function to generate path for random walk.\n",
    "    \n",
    "    steps: numbers of steps we want agent to do\n",
    "    '''\n",
    "    xs = [0]\n",
    "    ys = [0]\n",
    "    for s in range(steps):\n",
    "        rand = np.random.choice([1, 2, 3, 4])\n",
    "        if rand == 1:\n",
    "            xs.append(xs[s] + 1)\n",
    "            ys.append(ys[s])\n",
    "        elif rand == 2:\n",
    "            xs.append(xs[s] - 1)\n",
    "            ys.append(ys[s])\n",
    "        elif rand == 3:\n",
    "            ys.append(ys[s] + 1)\n",
    "            xs.append(xs[s])\n",
    "        elif rand == 4:\n",
    "            ys.append(ys[s] - 1)\n",
    "            xs.append(xs[s])\n",
    "    return [xs, ys]"
   ]
  },
  {
   "cell_type": "code",
   "execution_count": 180,
   "id": "1a6c8daf",
   "metadata": {},
   "outputs": [],
   "source": [
    "def plot_walk(data, folder_name):\n",
    "    '''\n",
    "    Function to create a folder and put all png data needed to make gif.\n",
    "    \n",
    "    data: positions of agent in time (list of two lists)\n",
    "    folder_name: name of folder from witch we want to take pngs (string)\n",
    "    '''\n",
    "    if os.path.exists(folder_name):\n",
    "        shutil.rmtree(folder_name)\n",
    "    os.makedirs(folder_name)\n",
    "    for i in range(len(data[0])):\n",
    "        plt.figure(figsize = (16, 9), dpi = 150)\n",
    "        plt.scatter(data[0][i], data[1][i], color = 'black', marker = 'o')\n",
    "        plt.plot(data[0][:i+1], data[1][:i+1], color = 'gray')\n",
    "        plt.xlim([min(data[0])-4, max(data[0]) + 4])\n",
    "        plt.ylim([min(data[1])-4, max(data[1]) + 4])\n",
    "        plt.title(f'Agent position at step {i}',\n",
    "                  fontsize=14)\n",
    "        plt.savefig(f'{folder_name}/img_{i}.png', \n",
    "                    transparent = False,  \n",
    "                    facecolor = 'white')\n",
    "        plt.close()"
   ]
  },
  {
   "cell_type": "code",
   "execution_count": 181,
   "id": "a38d373b",
   "metadata": {},
   "outputs": [],
   "source": [
    "def make_gif(data, folder_name, gif_name):\n",
    "    '''\n",
    "    Function to make a gif from folder full of pngs.\n",
    "    \n",
    "    data: positions of agent in time (list of two lists)\n",
    "    folder_name: name of folder from witch we want to take pngs (string)\n",
    "    gif_name: name for our gif (string)\n",
    "    '''\n",
    "    plot_walk(data, folder_name)\n",
    "    sorted_files = sorted(os.listdir(folder_name), key=lambda x: int(x.split('_')[1].split('.')[0]) if '_' in x else -1)\n",
    "    images = []\n",
    "    for filename in sorted_files:\n",
    "        if filename.endswith('.png'):  \n",
    "            filepath = os.path.join(folder_name, filename)\n",
    "            image = imageio.v2.imread(filepath)\n",
    "            images.append(image)\n",
    "    imageio.mimsave(gif_name, images, format='gif', duration=0.01)"
   ]
  },
  {
   "cell_type": "code",
   "execution_count": null,
   "id": "9eb95b71",
   "metadata": {},
   "outputs": [],
   "source": [
    "make_gif(random_walk(100), 'random_walk', 'random_agent.gif')"
   ]
  },
  {
   "cell_type": "markdown",
   "id": "b74c130f",
   "metadata": {},
   "source": [
    "## Ex2"
   ]
  },
  {
   "cell_type": "code",
   "execution_count": null,
   "id": "2fc31144",
   "metadata": {},
   "outputs": [],
   "source": [
    "def pearson(steps):\n",
    "    '''\n",
    "    Function returning position of Pearson random walk.\n",
    "    \n",
    "    steps: the amount of steps (integer)\n",
    "    '''\n",
    "    args = np.random.uniform(0, 2*np.pi, steps)\n",
    "    xs = np.cumsum(np.sin(args))\n",
    "    ys = np.cumsum(np.cos(args))\n",
    "    return [xs, ys]"
   ]
  },
  {
   "cell_type": "code",
   "execution_count": null,
   "id": "743a7423",
   "metadata": {},
   "outputs": [],
   "source": [
    "make_gif(pearson(100), 'pearson', 'pearson_agent.gif')"
   ]
  },
  {
   "cell_type": "code",
   "execution_count": null,
   "id": "5c8dfa1c",
   "metadata": {},
   "outputs": [],
   "source": [
    "def give_left(steps):\n",
    "    '''\n",
    "    Function to return amount of left sided elements.\n",
    "    \n",
    "    steps: the amount of steps (integer)\n",
    "    '''\n",
    "    data = pearson(steps)\n",
    "    left = [i for i in data[0] if i >= 0]\n",
    "    return len(left)"
   ]
  },
  {
   "cell_type": "code",
   "execution_count": null,
   "id": "75ae3d7e",
   "metadata": {},
   "outputs": [],
   "source": [
    "def return_first_quater(steps):\n",
    "    '''\n",
    "    Function to return amount of elements in first quater.\n",
    "    \n",
    "    steps: the amount of steps (integer)\n",
    "    '''\n",
    "    data = pearson(steps)\n",
    "    left = [i for i in range(len(data[0])) if data[0][i] >= 0 and data[1][i] >= 0]\n",
    "    return len(left)"
   ]
  },
  {
   "cell_type": "markdown",
   "id": "03b57f24",
   "metadata": {},
   "source": [
    "Plots of respectively left-sided elements and first quater elements for 1000 steps (10000 monte carlo steps):"
   ]
  },
  {
   "cell_type": "code",
   "execution_count": null,
   "id": "86fb2a64",
   "metadata": {},
   "outputs": [],
   "source": [
    "left = [give_left(1000) for i in range(1000)]\n",
    "plt.figure(figsize = (16, 9), dpi = 150)\n",
    "plt.hist(left, bins = 20, density = True)\n",
    "plt.xlabel('Amount of left-sided elements')\n",
    "plt.text(380, 0.0025, f'Mean = {np.mean(left)} out of {len(left)} elements')\n",
    "plt.show()"
   ]
  },
  {
   "cell_type": "code",
   "execution_count": null,
   "id": "cc88a68d",
   "metadata": {},
   "outputs": [],
   "source": [
    "quater = [return_first_quater(1000) for i in range(10000)]\n",
    "plt.figure(figsize = (16, 9), dpi = 150)\n",
    "plt.hist(quater, bins = 20, density = True)\n",
    "plt.xlabel('Amount of elements on first quater of a plane')\n",
    "plt.text(380, 0.007, f'Mean = {np.mean(quater)} out of {len(quater)} elements')\n",
    "plt.show()"
   ]
  },
  {
   "cell_type": "markdown",
   "id": "5d2d2d06",
   "metadata": {},
   "source": [
    "## Ex3"
   ]
  },
  {
   "cell_type": "markdown",
   "id": "37fca74a",
   "metadata": {},
   "source": [
    "### 3 functions from previous list"
   ]
  },
  {
   "cell_type": "code",
   "execution_count": null,
   "id": "b68ec636",
   "metadata": {},
   "outputs": [],
   "source": [
    "def random_graph(N, p):\n",
    "    G = nx.Graph()\n",
    "    for i in range(N):\n",
    "        G.add_node(i)\n",
    "    for node in G.nodes():\n",
    "        for i in range(node + 1, N):\n",
    "            if p >= np.random.uniform(0, 1):\n",
    "                G.add_edge(node, i)\n",
    "    return G"
   ]
  },
  {
   "cell_type": "code",
   "execution_count": null,
   "id": "8c5e3b30",
   "metadata": {},
   "outputs": [],
   "source": [
    "def watts_model(N, p):\n",
    "    G = nx.Graph()\n",
    "    G.add_node(0)\n",
    "    G.add_node(1)\n",
    "    G.add_edge(0, 1)\n",
    "    for i in range(2, N):\n",
    "        G.add_node(i)\n",
    "        G.add_edge(i-1, i)\n",
    "        G.add_edge(i-2, i)\n",
    "    G.add_edge(N-1, 0)\n",
    "    G.add_edge(N-1, 1)\n",
    "    G.add_edge(N-2, 0)\n",
    "    for edge in G.edges():\n",
    "        if p >= np.random.uniform(0, 1):\n",
    "            G.remove_edge(edge[0], edge[1])\n",
    "            node = random.choice(list(G.nodes()))\n",
    "            G.add_edge(edge[0], node)\n",
    "    return G"
   ]
  },
  {
   "cell_type": "code",
   "execution_count": null,
   "id": "b5e80e23",
   "metadata": {},
   "outputs": [],
   "source": [
    "def Barabasi_model(N, steps, links):\n",
    "    G = nx.Graph()\n",
    "    G.add_node(0)\n",
    "    for i in range(1, N):\n",
    "        G.add_node(i)\n",
    "        G.add_edge(i-1, i)\n",
    "    G.add_edge(N-1, 0)\n",
    "    for i in range(1, steps + 1):\n",
    "        nodes = random.sample(list(G.nodes()), k = links)\n",
    "        G.add_node(N + i)\n",
    "        for j in range(links):\n",
    "            G.add_edge(N + i, nodes[j])\n",
    "    return G"
   ]
  },
  {
   "cell_type": "code",
   "execution_count": null,
   "id": "4dca7edd",
   "metadata": {},
   "outputs": [],
   "source": [
    "G1, G2, G3 = random_graph(20, 0.5), watts_model(20, 0.5), Barabasi_model(20, 5, 3)"
   ]
  },
  {
   "cell_type": "code",
   "execution_count": null,
   "id": "90c4a662",
   "metadata": {},
   "outputs": [],
   "source": [
    "def random_walk_on_graph(steps, graph):\n",
    "    '''\n",
    "    Function returning position of random walking agent on a graph.\n",
    "    \n",
    "    steps: the amount of steps (integer)\n",
    "    graph: graph we want our agent to walk (networkx.classes.graph.Graph)\n",
    "    '''\n",
    "    positions = np.empty(steps)\n",
    "    if not nx.is_connected(graph):\n",
    "        raise ValueError(\"Graph must be connected\")\n",
    "    positions = [np.random.choice(list(graph.nodes()))]\n",
    "    for s in range(steps):\n",
    "        positions.append(np.random.choice(list(graph.neighbors(positions[s]))))\n",
    "    return positions"
   ]
  },
  {
   "cell_type": "code",
   "execution_count": null,
   "id": "005d47e4",
   "metadata": {},
   "outputs": [],
   "source": [
    "def graph_plot(steps, graph, folder_name):\n",
    "    '''\n",
    "    Function generating a folder full of pngs needed to make a gif.\n",
    "    \n",
    "    steps: the amount of steps (integer)\n",
    "    graph: graph we want our agent to walk (networkx.classes.graph.Graph)\n",
    "    folder_name: name of folder we want to create (string)\n",
    "    '''\n",
    "    nodes = list(graph.nodes())\n",
    "    edges = list(graph.edges())\n",
    "    position = nx.spring_layout(graph)\n",
    "    data = random_walk_on_graph(steps, graph)\n",
    "    if os.path.exists(folder_name):\n",
    "        shutil.rmtree(folder_name)\n",
    "    os.makedirs(folder_name)\n",
    "    edges_color = [\"black\"]*len(edges)\n",
    "    for s in range(steps):\n",
    "        if s > 0:\n",
    "            if data[s - 1] < data[s]:\n",
    "                edges_color[edges.index((data[s - 1], data[s]))] = \"red\"\n",
    "            else:\n",
    "                edges_color[edges.index((data[s], data[s - 1]))] = \"red\"\n",
    "        nodes_color = [\"blue\"]*len(nodes)\n",
    "        nodes_color[nodes.index(data[s])] = \"red\"\n",
    "        plt.figure(figsize = (16, 9), dpi = 150)\n",
    "        nx.draw_networkx(graph, node_color = nodes_color,  pos = position, with_labels = False, edge_color = edges_color)\n",
    "        plt.title(f'agent position at step {s}', fontsize=14)\n",
    "        plt.savefig(f'{folder_name}/img_{s}.png', transparent = False, facecolor = 'white')\n",
    "        plt.close()"
   ]
  },
  {
   "cell_type": "code",
   "execution_count": null,
   "id": "197259ff",
   "metadata": {},
   "outputs": [],
   "source": [
    "def graph_gif(steps, graph, folder_name, gif_name):\n",
    "    '''\n",
    "    Function to make a gif from folder full of pngs.\n",
    "    \n",
    "    steps: the amount od steps (integer)\n",
    "    folder_name: name of folder from witch we want to take pngs (string)\n",
    "    gif_name: name for our gif (string)\n",
    "    '''\n",
    "    graph_plot(steps, graph, folder_name)\n",
    "    sorted_files = sorted(os.listdir(folder_name), key=lambda x: int(x.split('_')[1].split('.')[0]) if '_' in x else -1)\n",
    "    images = []\n",
    "    for filename in sorted_files:\n",
    "        if filename.endswith('.png'):  \n",
    "            filepath = os.path.join(folder_name, filename)\n",
    "            image = imageio.v2.imread(filepath)\n",
    "            images.append(image)\n",
    "    imageio.mimsave(gif_name, images, format='gif', duration=0.02)"
   ]
  },
  {
   "cell_type": "code",
   "execution_count": null,
   "id": "37273230",
   "metadata": {},
   "outputs": [],
   "source": [
    "graph_gif(100, G, \"Graph\", \"RandomGraph.gif\")"
   ]
  },
  {
   "cell_type": "code",
   "execution_count": null,
   "id": "65d7d0ae",
   "metadata": {},
   "outputs": [],
   "source": [
    "graph_gif(100, G, \"Graph\", \"Watts.gif\")"
   ]
  },
  {
   "cell_type": "code",
   "execution_count": null,
   "id": "c7b54d33",
   "metadata": {},
   "outputs": [],
   "source": [
    "graph_gif(100, G, \"Graph\", \"Barabasi.gif\")"
   ]
  },
  {
   "cell_type": "code",
   "execution_count": null,
   "id": "71438c99",
   "metadata": {},
   "outputs": [],
   "source": [
    "def hitting_time(graph, final_node):\n",
    "    '''\n",
    "    Function calcuating time for a agent to hit chosen node. Note that now the starting position \n",
    "    is not random, it is set to 0. It is working as long as aget steps on chosen node.\n",
    "    \n",
    "    graph: graph we want our agent to walk (networkx.classes.graph.Graph)\n",
    "    final_node: node we are calcuating hitting time which\n",
    "    '''\n",
    "    if not nx.is_connected(graph):\n",
    "        raise ValueError(\"Graph must be connected\")\n",
    "    position = 0\n",
    "    i = 0\n",
    "    while True:\n",
    "        if position == final_node:\n",
    "            return i\n",
    "        position = np.random.choice(list(graph.neighbors(position)))\n",
    "        i += 1"
   ]
  },
  {
   "cell_type": "markdown",
   "id": "186935f4",
   "metadata": {},
   "source": [
    "Plogts presenting mean hitting time for all nodes for respectively random graph, Watts-Strogatz model and Barabasi-Albert model (10000 monte carlo steps to calculate means). Probabilities for random graph and Watts-Strogatz model are $0.5$ and they all have 100 nodes each. Barabasi-Albert model started with 80 nodes making 20 new nodes with 8 links each."
   ]
  },
  {
   "cell_type": "code",
   "execution_count": null,
   "id": "7e4a5cef",
   "metadata": {},
   "outputs": [],
   "source": [
    "G1, G2, G3 = random_graph(100, 0.5), watts_model(100, 0.5), Barabasi_model(80, 20, 8)"
   ]
  },
  {
   "cell_type": "code",
   "execution_count": null,
   "id": "05b34dec",
   "metadata": {},
   "outputs": [],
   "source": [
    "N = 10000\n",
    "times = np.zeros(len(list(G1.nodes())))\n",
    "for j in range(N):\n",
    "    times += [hitting_time(G1, i) for i in list(G1.nodes())]\n",
    "times = times/N\n",
    "plt.figure(figsize = (16, 9), dpi = 150)\n",
    "plt.bar([int(i) for i in list(G1.nodes())], times)\n",
    "plt.xticks([int(i) for i in list(G1.nodes())])\n",
    "plt.show()"
   ]
  },
  {
   "cell_type": "code",
   "execution_count": null,
   "id": "e5852bbf",
   "metadata": {},
   "outputs": [],
   "source": [
    "times = np.zeros(len(list(G2.nodes())))\n",
    "for j in range(N):\n",
    "    times += [hitting_time(G2, i) for i in list(G2.nodes())]\n",
    "times = times/N\n",
    "plt.figure(figsize = (16, 9), dpi = 150)\n",
    "plt.bar([int(i) for i in list(G2.nodes())], times)\n",
    "plt.xticks([int(i) for i in list(G2.nodes())])\n",
    "plt.show()"
   ]
  },
  {
   "cell_type": "code",
   "execution_count": null,
   "id": "aaab7920",
   "metadata": {},
   "outputs": [],
   "source": [
    "times = np.zeros(len(list(G3.nodes())))\n",
    "for j in range(N):\n",
    "    times += [hitting_time(G3, i) for i in list(G3.nodes())]\n",
    "times = times/N\n",
    "plt.figure(figsize = (16, 9), dpi = 150)\n",
    "plt.bar([int(i) for i in list(G3.nodes())], times)\n",
    "plt.xticks([int(i) for i in list(G3.nodes())])\n",
    "plt.show()"
   ]
  }
 ],
 "metadata": {
  "kernelspec": {
   "display_name": "Python 3 (ipykernel)",
   "language": "python",
   "name": "python3"
  },
  "language_info": {
   "codemirror_mode": {
    "name": "ipython",
    "version": 3
   },
   "file_extension": ".py",
   "mimetype": "text/x-python",
   "name": "python",
   "nbconvert_exporter": "python",
   "pygments_lexer": "ipython3",
   "version": "3.10.1"
  }
 },
 "nbformat": 4,
 "nbformat_minor": 5
}
