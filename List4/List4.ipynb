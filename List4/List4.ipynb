{
 "cells": [
  {
   "cell_type": "code",
   "execution_count": 112,
   "id": "07776108",
   "metadata": {},
   "outputs": [],
   "source": [
    "import matplotlib.pyplot as plt\n",
    "import numpy as np\n",
    "import matplotlib as ma\n",
    "import os\n",
    "import shutil\n",
    "import imageio\n",
    "import random\n",
    "import networkx as nx"
   ]
  },
  {
   "cell_type": "markdown",
   "id": "93b7e32c",
   "metadata": {},
   "source": [
    "## Ex1"
   ]
  },
  {
   "cell_type": "code",
   "execution_count": 80,
   "id": "08c2ba5f",
   "metadata": {},
   "outputs": [],
   "source": [
    "def random_walk(steps):\n",
    "    '''\n",
    "    Function to generate path for random walk\n",
    "    \n",
    "    steps: numbers of steps we want agent to do\n",
    "    '''\n",
    "    xs = [0]\n",
    "    ys = [0]\n",
    "    for s in range(steps):\n",
    "        rand = np.random.choice([1, 2, 3, 4])\n",
    "        if rand == 1:\n",
    "            xs.append(xs[s] + 1)\n",
    "            ys.append(ys[s])\n",
    "        elif rand == 2:\n",
    "            xs.append(xs[s] - 1)\n",
    "            ys.append(ys[s])\n",
    "        elif rand == 3:\n",
    "            ys.append(ys[s] + 1)\n",
    "            xs.append(xs[s])\n",
    "        elif rand == 4:\n",
    "            ys.append(ys[s] - 1)\n",
    "            xs.append(xs[s])\n",
    "    return [xs, ys]"
   ]
  },
  {
   "cell_type": "code",
   "execution_count": 81,
   "id": "1a6c8daf",
   "metadata": {},
   "outputs": [],
   "source": [
    "def plot_walk(data, folder_name):\n",
    "    '''\n",
    "    Function to create a folder and put all png data needed to make gif.\n",
    "    \n",
    "    data: positions of agent in time (list of two lists)\n",
    "    folder_name: name of folder from witch we want to take pngs (string)\n",
    "    '''\n",
    "    if os.path.exists(folder_name):\n",
    "        shutil.rmtree(folder_name)\n",
    "    os.makedirs(folder_name)\n",
    "    for i in range(len(data[0])):\n",
    "        plt.figure(figsize = (16, 9), dpi = 150)\n",
    "        plt.scatter(data[0][i], data[1][i], color = 'black', marker = 'o')\n",
    "        plt.plot(data[0][:i+1], data[1][:i+1], color = 'gray')\n",
    "        plt.xlim([min(data[0])-4, max(data[0]) + 4])\n",
    "        plt.ylim([min(data[1])-4, max(data[1]) + 4])\n",
    "        plt.title(f'Agent position at step {i}',\n",
    "                  fontsize=14)\n",
    "        plt.savefig(f'{folder_name}/img_{i}.png', \n",
    "                    transparent = False,  \n",
    "                    facecolor = 'white')\n",
    "        plt.close()"
   ]
  },
  {
   "cell_type": "code",
   "execution_count": 82,
   "id": "a38d373b",
   "metadata": {},
   "outputs": [],
   "source": [
    "def make_gif(data, folder_name, gif_name):\n",
    "    '''\n",
    "    Function to make a gif from folder full of pngs\n",
    "    \n",
    "    data: positions of agent in time (list of two lists)\n",
    "    folder_name: name of folder from witch we want to take pngs (string)\n",
    "    gif_name: name for our gif (string)\n",
    "    '''\n",
    "    plot_walk(data, folder_name)\n",
    "    sorted_files = sorted(os.listdir(folder_name), key=lambda x: int(x.split('_')[1].split('.')[0]) if '_' in x else -1)\n",
    "    images = []\n",
    "    for filename in sorted_files:\n",
    "        if filename.endswith('.png'):  \n",
    "            filepath = os.path.join(folder_name, filename)\n",
    "            image = imageio.v2.imread(filepath)\n",
    "            images.append(image)\n",
    "    imageio.mimsave(gif_name, images, format='gif', duration=0.01)"
   ]
  },
  {
   "cell_type": "code",
   "execution_count": 83,
   "id": "9eb95b71",
   "metadata": {},
   "outputs": [],
   "source": [
    "make_gif(random_walk(10), 'random_walk', 'random_agent.gif')"
   ]
  },
  {
   "cell_type": "markdown",
   "id": "b74c130f",
   "metadata": {},
   "source": [
    "## Ex2"
   ]
  },
  {
   "cell_type": "code",
   "execution_count": 107,
   "id": "2fc31144",
   "metadata": {},
   "outputs": [],
   "source": [
    "def pearson(steps):\n",
    "    args = np.random.uniform(0, 2*np.pi, steps)\n",
    "    xs = np.cumsum(np.sin(args))\n",
    "    ys = np.cumsum(np.cos(args))\n",
    "    return [xs, ys]"
   ]
  },
  {
   "cell_type": "code",
   "execution_count": 108,
   "id": "743a7423",
   "metadata": {},
   "outputs": [],
   "source": [
    "make_gif(pearson(10), 'pearson', 'pearson_agent.gif')"
   ]
  },
  {
   "cell_type": "markdown",
   "id": "5d2d2d06",
   "metadata": {},
   "source": [
    "## Ex3"
   ]
  },
  {
   "cell_type": "code",
   "execution_count": null,
   "id": "90c4a662",
   "metadata": {},
   "outputs": [],
   "source": [
    "def random_walk_on_graph(steps, graph):\n",
    "    positions = np.empty(steps)\n",
    "    if not nx.connected(graph):\n",
    "        raise \"Graph must be connected\"\n",
    "    start = np.random.choice(graph.nodes())\n",
    "    for s in steps:\n",
    "        "
   ]
  },
  {
   "cell_type": "code",
   "execution_count": 113,
   "id": "b68ec636",
   "metadata": {},
   "outputs": [],
   "source": [
    "def random_graph(N, p):\n",
    "    G = nx.Graph()\n",
    "    for i in range(N):\n",
    "        G.add_node(i)\n",
    "    for node in G.nodes():\n",
    "        for i in range(node + 1, N):\n",
    "            if p >= np.random.uniform(0, 1):\n",
    "                G.add_edge(node, i)\n",
    "    return G"
   ]
  },
  {
   "cell_type": "code",
   "execution_count": 114,
   "id": "7ff1a078",
   "metadata": {},
   "outputs": [],
   "source": [
    "G = random_graph(20, 0.2)"
   ]
  },
  {
   "cell_type": "code",
   "execution_count": 117,
   "id": "bb801f4d",
   "metadata": {},
   "outputs": [
    {
     "data": {
      "text/plain": [
       "NodeView((0, 1, 2, 3, 4, 5, 6, 7, 8, 9, 10, 11, 12, 13, 14, 15, 16, 17, 18, 19))"
      ]
     },
     "execution_count": 117,
     "metadata": {},
     "output_type": "execute_result"
    }
   ],
   "source": [
    "G.nodes()"
   ]
  },
  {
   "cell_type": "code",
   "execution_count": null,
   "id": "65d7d0ae",
   "metadata": {},
   "outputs": [],
   "source": []
  }
 ],
 "metadata": {
  "kernelspec": {
   "display_name": "Python 3 (ipykernel)",
   "language": "python",
   "name": "python3"
  },
  "language_info": {
   "codemirror_mode": {
    "name": "ipython",
    "version": 3
   },
   "file_extension": ".py",
   "mimetype": "text/x-python",
   "name": "python",
   "nbconvert_exporter": "python",
   "pygments_lexer": "ipython3",
   "version": "3.10.1"
  }
 },
 "nbformat": 4,
 "nbformat_minor": 5
}
