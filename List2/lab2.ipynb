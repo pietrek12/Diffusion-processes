{
 "cells": [
  {
   "cell_type": "code",
   "execution_count": 67,
   "metadata": {},
   "outputs": [],
   "source": [
    "import numpy as np\n",
    "from itertools import compress"
   ]
  },
  {
   "cell_type": "code",
   "execution_count": 68,
   "metadata": {},
   "outputs": [],
   "source": [
    "class Vertex:\n",
    "    \"\"\"\n",
    "        Helper class representing single vertex in class Graph. Not recommended to use independently.\n",
    "        \n",
    "        Params:\n",
    "            self.label - vertex label,\n",
    "            self.ind - vertex reference key.\n",
    "    \"\"\"\n",
    "    \n",
    "    def __init__(self, label, ind):\n",
    "        \"\"\"\n",
    "            Class object initiation. Takes two arguments: label and key, where ind must be of type int,\n",
    "            and label cannot be of type Vertex.\n",
    "        \"\"\"\n",
    "        \n",
    "        assert type(ind) == int\n",
    "        if type(label) == Vertex:\n",
    "            raise TypeError('Vertex label cannot be of type Vertex')\n",
    "        \n",
    "        self.label = label\n",
    "        self.ind = ind\n",
    "        \n",
    "    def __eq__(self, other):\n",
    "        \"\"\"\n",
    "            Override of equality operator between to objects of class Vertex.\n",
    "            Returns True if objects have same label and reference key, and False otherwise.\n",
    "        \"\"\"\n",
    "        \n",
    "        return (self.label, self.ind) == (other.label, other.ind)\n",
    "    \n",
    "    def __repr__(self):\n",
    "        \"\"\"\n",
    "            Override of print method for object of class Vertex. Returns string of vertex label.\n",
    "        \"\"\"\n",
    "        \n",
    "        return str(self.label)"
   ]
  },
  {
   "cell_type": "code",
   "execution_count": 69,
   "metadata": {},
   "outputs": [],
   "source": [
    "class Graph:\n",
    "    \"\"\"\n",
    "        Class representing an undirected graph structure. \n",
    "        \n",
    "        Params:\n",
    "            self.veritces - vertex list,\n",
    "            self.vertLabels - vertex labels,\n",
    "            self.vertKeys - vertex reference keys,\n",
    "            self.edges - edge list,\n",
    "            self.type - graph type (weighted/unweighted).\n",
    "    \"\"\"\n",
    "    \n",
    "    def __init__(self, gtype = 'Unweighted'): \n",
    "        \"\"\"\n",
    "            Class object initiation. Takes one optional argument, gtype, denoting if the graph should be weighted or not \n",
    "            ('Unweighted' by default, can be set as 'Weighted').\n",
    "        \"\"\"\n",
    "        \n",
    "        self.vertices = []\n",
    "        self.vertLabels = []\n",
    "        self.vertKeys = []\n",
    "        self.edges = []\n",
    "        self.type = gtype\n",
    "    \n",
    "    def addVertex(self, vert):\n",
    "        \"\"\"\n",
    "            Adds new vertex to the graph. Takes one argument, vert (cannot be of type Vertex), being the vertex label.\n",
    "            Function automatically creates object of type Vertex with given label and assigns the reference key.\n",
    "        \"\"\"\n",
    "        \n",
    "        if type(vert) == Vertex:\n",
    "            raise TypeError('Vertex label cannot be of type Vertex')\n",
    "        \n",
    "        self.vertLabels.append(vert)\n",
    "        num = len(self.vertLabels)\n",
    "        self.vertKeys.append(num)\n",
    "        vertex = Vertex(vert, num)\n",
    "        self.vertices.append(vertex)\n",
    "        \n",
    "        return vertex\n",
    "        \n",
    "    def addVerticesFromList(self, vertList):\n",
    "        \"\"\"\n",
    "            Adds vertices from list to the graph. Takes one argument, vertList, being the list of vertex labels\n",
    "            of positive length. Elements of the list cannot be of type Vertex.\n",
    "        \"\"\"\n",
    "        \n",
    "        assert type(vertList) == list\n",
    "        assert len(vertList) > 0\n",
    "        \n",
    "        for i in vertList:\n",
    "            self.addVertex(i)\n",
    "            \n",
    "    def _checkVert(self, vert):\n",
    "        \"\"\"\n",
    "            Helper function for addEdge function. Takes one argument, vert, being the vertex label.\n",
    "            If there is no vertex in the graph with given label, it adds a new vertex. If there is only\n",
    "            one vertex with given label, function returns it. Otherwise, if there are multiple vertices\n",
    "            with given label, user needs to select one of them by giving appropriate reference key to the console.\n",
    "        \"\"\"\n",
    "            \n",
    "        if type(vert) == Vertex:\n",
    "            raise TypeError('Vertex label cannot be of type Vertex')\n",
    "            \n",
    "        num = self.vertLabels.count(vert)\n",
    "        if num == 0:\n",
    "            vertex = self.addVertex(vert)\n",
    "        elif num == 1:\n",
    "            vertex = [i for i in self.vertices if i.label == vert][0]\n",
    "        else:\n",
    "            sameLabel = [i.label == vert for i in self.vertices]\n",
    "            choices = list(compress(self.vertices, sameLabel))\n",
    "            possible = [(i.label, i.ind) for i in choices]\n",
    "            pick = input(f\"Possible nodes with given label: {possible}. Please select by reference key: \")\n",
    "            vertex = [i for i in self.vertices if i.ind == int(pick)][0]\n",
    "            \n",
    "        return vertex\n",
    "    \n",
    "    def addEdge(self, fromVert, toVert, weight = None):  \n",
    "        \"\"\"\n",
    "            Adds new edge to the graph. Takes two required arguments, fromVert and toVert, being labels\n",
    "            of the vertices on both sides of the edge to add (cannot be of type Vertex),\n",
    "            and one optional argument, weight, representing weight of the edge (has to be of type float).\n",
    "            If edge already exists in the graph, it won't be doubled. Any vertices that are not in the graph\n",
    "            will be added automatically.\n",
    "        \"\"\"\n",
    "        \n",
    "        fromVert = self._checkVert(fromVert)\n",
    "        toVert = self._checkVert(toVert)\n",
    "        \n",
    "        if self.type == 'Weighted':\n",
    "            assert type(weight) == float\n",
    "            edges = [i[0:2] for i in self.edges]\n",
    "            edge = (fromVert, toVert)\n",
    "            if edges.count(edge[::-1]) > 0 or edges.count(edge) > 0: # check if reverse or duplicate edge exists\n",
    "                pass \n",
    "            else:\n",
    "                edge = (fromVert, toVert, weight)\n",
    "                self.edges.append(edge)\n",
    "                \n",
    "        elif self.type == 'Unweighted':\n",
    "            edge = (fromVert, toVert)\n",
    "            if self.edges.count(edge[::-1]) > 0 or self.edges.count(edge) > 0:\n",
    "                pass\n",
    "            else:\n",
    "                self.edges.append(edge)\n",
    "    \n",
    "    def addEdgesFromList(self, edgeList, weightList = None):\n",
    "        \"\"\"\n",
    "            Adds edges from list to the graph. Takes one required argument, edgeList, representing the edges to add \n",
    "            (has to be of type list with positive length), and one optional argument, weightList, representing \n",
    "            weigths of the edges (has to be list of floats with same length as edgeList). \n",
    "            Any vertices that are not in the graph will be added automatically.\n",
    "        \"\"\"\n",
    "        \n",
    "        assert type(edgeList) == list\n",
    "        assert len(edgeList) > 0\n",
    "        assert all(isinstance(i, tuple) for i in edgeList)\n",
    "        assert all(len(i) == 2 for i in edgeList)\n",
    "        \n",
    "        if self.type == 'Weighted':\n",
    "            assert all(isinstance(i, float) for i in weightList)\n",
    "            assert len(weightList) == len(edgeList)\n",
    "            for i in range(len(edgeList)):\n",
    "                self.addEdge(edgeList[i][0], edgeList[i][1], weightList[i])\n",
    "            \n",
    "        elif self.type == 'Unweighted':\n",
    "            for i in edgeList:\n",
    "                self.addEdge(i[0], i[1])\n",
    " \n",
    "    def getVertices(self):\n",
    "        \"\"\"\n",
    "            Returns list of vertices.\n",
    "        \"\"\"\n",
    "        \n",
    "        return self.vertices\n",
    "    \n",
    "    def getEdges(self):\n",
    "        \"\"\"\n",
    "            Returns list of edges.\n",
    "        \"\"\"\n",
    "        \n",
    "        return self.edges\n",
    "    \n",
    "    def getNeighbours(self, vertKey):\n",
    "        \"\"\"\n",
    "            Returns list of neighbours for given vertex reference key (vertKey).\n",
    "        \"\"\"\n",
    "        \n",
    "        assert vertKey in self.vertKeys\n",
    "        vertex = [i for i in self.vertices if i.ind == vertKey][0]\n",
    "        \n",
    "        if self.type == 'Weighted':\n",
    "            edges = [i[0:2] for i in self.edges]\n",
    "            contains = [vertex in i for i in edges]\n",
    "            pairs = list(compress(edges, contains))\n",
    "            singles = [item for i in pairs for item in i]\n",
    "            is_neighbour = [i.ind != vertKey for i in singles]\n",
    "            neighbours = list(compress(singles, is_neighbour))\n",
    "        \n",
    "        elif self.type == 'Unweighted':\n",
    "            contains = [vertex in i for i in self.edges]\n",
    "            pairs = list(compress(self.edges, contains))\n",
    "            singles = [item for i in pairs for item in i]\n",
    "            is_neighbour = [i.ind != vertKey for i in singles]\n",
    "            neighbours = list(compress(singles, is_neighbour))\n",
    "            \n",
    "        return neighbours\n",
    "    \n",
    "    def __contains__(self, vertKey):\n",
    "        \"\"\"\n",
    "            Returns True if vertex of given reference key (vertKey) is in graph and False otherwise.\n",
    "        \"\"\"\n",
    "        \n",
    "        return vertKey in self.vertKeys\n",
    "    \n",
    "    def _changeRepr(self, vertList):\n",
    "        \"\"\"\n",
    "            Helper function for saveGraph function, changing the representation of vertices in vertList for display purposes.\n",
    "            Takes one argument, vertList, being a list of veritces with positive length. All elements of vertList\n",
    "            must be of type Vertex. For unique vertex labels, converts vertex to string of label. \n",
    "            Otherwise, converts vertex to concatenated string of label and reference key.\n",
    "        \"\"\"\n",
    "        \n",
    "        assert type(vertList) == list\n",
    "        assert len(vertList) > 0\n",
    "        assert all(isinstance(i, Vertex) for i in vertList)\n",
    "        \n",
    "        for i in range(len(vertList)):\n",
    "            cur = vertList[i]\n",
    "            if self.vertLabels.count(cur.label) > 1:\n",
    "                vertList[i] = str(cur.label) + str(cur.ind)\n",
    "            else:\n",
    "                vertList[i] = str(cur.label)\n",
    "        \n",
    "        \n",
    "    def saveGraph(self, filename, graphname):\n",
    "        \"\"\"\n",
    "            Writes DOT representation of graph to .txt file. Takes two arguments - filename, denoting name \n",
    "            of the resulting file and graphname, denoting name of the graph (both have to be of type string).\n",
    "        \"\"\"\n",
    "        \n",
    "        assert type(filename) == str\n",
    "        assert type(graphname) == str\n",
    "        \n",
    "        if len(self.edges) == 0:\n",
    "            raise ValueError('No connections between vertices, nothing to display')\n",
    "            \n",
    "        left = [i[0] for i in self.edges]\n",
    "        right = [i[1] for i in self.edges]\n",
    "        self._changeRepr(left)\n",
    "        self._changeRepr(right)\n",
    "        \n",
    "        if self.type == 'Weighted':\n",
    "            weights = [str(i[2]) for i in self.edges]\n",
    "            f = open(filename + '.txt', 'w')\n",
    "            f.write('graph ' + graphname + ' {\\n')\n",
    "            for i in range(len(self.edges)):\n",
    "                f.write('\\t' + left[i] + ' -- ' + right[i] + ' [label=' + weights[i] + '];\\n')\n",
    "            f.write('}')\n",
    "            f.close()\n",
    "            \n",
    "        elif self.type == 'Unweighted':\n",
    "            f = open(filename + '.txt', 'w')\n",
    "            f.write('graph ' + graphname + ' {\\n')\n",
    "            for i in range(len(self.edges)):\n",
    "                f.write('\\t' + left[i] + ' -- ' + right[i] + ';\\n')\n",
    "            f.write('}')\n",
    "            f.close()\n",
    "    \n",
    "    def __str__(self):\n",
    "        \"\"\"\n",
    "            Override of print method for object of class Graph.\n",
    "        \"\"\"\n",
    "        \n",
    "        if len(self.edges) == 0:\n",
    "            raise ValueError('No connections between vertices, nothing to display')\n",
    "        \n",
    "        left = [i[0] for i in self.edges]\n",
    "        right = [i[1] for i in self.edges]\n",
    "        self._changeRepr(left)\n",
    "        self._changeRepr(right)\n",
    "        \n",
    "        graphname = input('Please give the name of the graph: ')\n",
    "        \n",
    "        if self.type == 'Weighted':\n",
    "            weights = [str(i[2]) for i in self.edges]\n",
    "            f = ''\n",
    "            f = f + 'graph ' + graphname + ' {\\n'\n",
    "            for i in range(len(self.edges)):\n",
    "                f = f + '\\t' + left[i] + ' -- ' + right[i] + ' [label=' + weights[i] + '];\\n'\n",
    "            f = f + '}'\n",
    "\n",
    "        elif self.type == 'Unweighted':\n",
    "            f = ''\n",
    "            f = f + 'graph ' + graphname + ' {\\n'\n",
    "            for i in range(len(self.edges)):\n",
    "                f = f + '\\t' + left[i] + ' -- ' + right[i] + ';\\n'\n",
    "            f = f + '}'\n",
    "        \n",
    "        return(f)\n",
    "            \n",
    "    def getShortestPaths(self, vertKey):\n",
    "        \"\"\"\n",
    "            Calculates shortest paths from vertex with given reference key (vertKey) to all other vertices. \n",
    "        \"\"\"\n",
    "        \n",
    "        assert vertKey in self.vertKeys\n",
    "        \n",
    "        vertex = [i for i in self.vertices if i.ind == vertKey][0]\n",
    "        paths = [(vertex, 0)]\n",
    "        neighbours = self.getNeighbours(vertKey) \n",
    "        c = 1\n",
    "        while len(neighbours) > 0:\n",
    "            add_paths = [(i, c) for i in neighbours]\n",
    "            paths.extend(add_paths)\n",
    "            n = len(neighbours)\n",
    "            for i in range(n):\n",
    "                nbr = neighbours[i]\n",
    "                nbrKey = nbr.ind\n",
    "                next_nbrs = self.getNeighbours(nbrKey)\n",
    "                in_paths = [j[0] for j in paths]\n",
    "                not_in_paths = [j not in in_paths for j in next_nbrs]\n",
    "                keepers = list(compress(next_nbrs, not_in_paths))\n",
    "                neighbours.extend(keepers)\n",
    "            neighbours = neighbours[n:]\n",
    "            c += 1\n",
    "        return paths"
   ]
  },
  {
   "cell_type": "code",
   "execution_count": 37,
   "metadata": {},
   "outputs": [],
   "source": [
    "graph1 = Graph()"
   ]
  },
  {
   "cell_type": "code",
   "execution_count": 38,
   "metadata": {},
   "outputs": [
    {
     "data": {
      "text/plain": [
       "[Alice, Bob]"
      ]
     },
     "execution_count": 38,
     "metadata": {},
     "output_type": "execute_result"
    }
   ],
   "source": [
    "graph1.addVertex('Alice')\n",
    "graph1.addVertex('Bob')\n",
    "graph1.getVertices()"
   ]
  },
  {
   "cell_type": "code",
   "execution_count": 39,
   "metadata": {},
   "outputs": [
    {
     "data": {
      "text/plain": [
       "[Alice, Bob, Alice, Bob, Carl]"
      ]
     },
     "execution_count": 39,
     "metadata": {},
     "output_type": "execute_result"
    }
   ],
   "source": [
    "graph1.addVerticesFromList(['Alice', 'Bob', 'Carl'])\n",
    "graph1.getVertices()"
   ]
  },
  {
   "cell_type": "code",
   "execution_count": 40,
   "metadata": {},
   "outputs": [
    {
     "name": "stdout",
     "output_type": "stream",
     "text": [
      "Possible nodes with given label: [('Alice', 1), ('Alice', 3)]. Please select by reference key: 1\n",
      "Possible nodes with given label: [('Bob', 2), ('Bob', 4)]. Please select by reference key: 2\n"
     ]
    },
    {
     "data": {
      "text/plain": [
       "[(Alice, Bob)]"
      ]
     },
     "execution_count": 40,
     "metadata": {},
     "output_type": "execute_result"
    }
   ],
   "source": [
    "graph1.addEdge('Alice', 'Bob')\n",
    "graph1.getEdges()"
   ]
  },
  {
   "cell_type": "code",
   "execution_count": 41,
   "metadata": {},
   "outputs": [
    {
     "name": "stdout",
     "output_type": "stream",
     "text": [
      "Possible nodes with given label: [('Bob', 2), ('Bob', 4)]. Please select by reference key: 4\n",
      "Possible nodes with given label: [('Alice', 1), ('Alice', 3)]. Please select by reference key: 3\n"
     ]
    },
    {
     "data": {
      "text/plain": [
       "[(Alice, Bob), (Bob, Alice), (Carl, David)]"
      ]
     },
     "execution_count": 41,
     "metadata": {},
     "output_type": "execute_result"
    }
   ],
   "source": [
    "graph1.addEdgesFromList([('Bob','Alice'), ('Carl','David')])\n",
    "graph1.getEdges()"
   ]
  },
  {
   "cell_type": "code",
   "execution_count": 42,
   "metadata": {},
   "outputs": [
    {
     "name": "stdout",
     "output_type": "stream",
     "text": [
      "Please give the name of the graph: graph1\n",
      "graph graph1 {\n",
      "\tAlice1 -- Bob2;\n",
      "\tBob4 -- Alice3;\n",
      "\tCarl -- David;\n",
      "}\n"
     ]
    }
   ],
   "source": [
    "print(str(graph1))"
   ]
  },
  {
   "cell_type": "code",
   "execution_count": 43,
   "metadata": {},
   "outputs": [],
   "source": [
    "graph2 = Graph()"
   ]
  },
  {
   "cell_type": "code",
   "execution_count": 44,
   "metadata": {},
   "outputs": [
    {
     "data": {
      "text/plain": [
       "[(Alice, Bob),\n",
       " (Alice, Carl),\n",
       " (Alice, David),\n",
       " (Alice, Ernst),\n",
       " (Alice, Frank),\n",
       " (Bob, Gail),\n",
       " (Gail, Harry),\n",
       " (Harry, Jen),\n",
       " (Jen, Gail),\n",
       " (Harry, Irene),\n",
       " (Irene, Gail),\n",
       " (Irene, Jen),\n",
       " (Ernst, Frank),\n",
       " (David, Carl),\n",
       " (Carl, Frank)]"
      ]
     },
     "execution_count": 44,
     "metadata": {},
     "output_type": "execute_result"
    }
   ],
   "source": [
    "graph2.addEdgesFromList([('Alice','Bob'), ('Alice','Carl'),\n",
    "                        ('Alice','David'), ('Alice','Ernst'),\n",
    "                        ('Alice','Frank'), ('Bob','Gail'),\n",
    "                        ('Gail','Harry'), ('Harry','Jen'),\n",
    "                        ('Jen','Gail'), ('Harry','Irene'),\n",
    "                        ('Irene','Gail'), ('Irene','Jen'),\n",
    "                        ('Ernst','Frank'), ('David','Carl'),\n",
    "                        ('Carl','Frank')])\n",
    "graph2.getEdges()"
   ]
  },
  {
   "cell_type": "code",
   "execution_count": 45,
   "metadata": {},
   "outputs": [
    {
     "name": "stdout",
     "output_type": "stream",
     "text": [
      "Please give the name of the graph: graph2\n",
      "graph graph2 {\n",
      "\tAlice -- Bob;\n",
      "\tAlice -- Carl;\n",
      "\tAlice -- David;\n",
      "\tAlice -- Ernst;\n",
      "\tAlice -- Frank;\n",
      "\tBob -- Gail;\n",
      "\tGail -- Harry;\n",
      "\tHarry -- Jen;\n",
      "\tJen -- Gail;\n",
      "\tHarry -- Irene;\n",
      "\tIrene -- Gail;\n",
      "\tIrene -- Jen;\n",
      "\tErnst -- Frank;\n",
      "\tDavid -- Carl;\n",
      "\tCarl -- Frank;\n",
      "}\n"
     ]
    }
   ],
   "source": [
    "print(str(graph2))"
   ]
  },
  {
   "cell_type": "code",
   "execution_count": 46,
   "metadata": {},
   "outputs": [
    {
     "data": {
      "text/plain": [
       "[Alice, Bob, Carl, David, Ernst, Frank, Gail, Harry, Jen, Irene]"
      ]
     },
     "execution_count": 46,
     "metadata": {},
     "output_type": "execute_result"
    }
   ],
   "source": [
    "verts = graph2.getVertices()\n",
    "verts"
   ]
  },
  {
   "cell_type": "code",
   "execution_count": 47,
   "metadata": {},
   "outputs": [
    {
     "data": {
      "text/plain": [
       "[(Alice, 1),\n",
       " (Bob, 2),\n",
       " (Carl, 3),\n",
       " (David, 4),\n",
       " (Ernst, 5),\n",
       " (Frank, 6),\n",
       " (Gail, 7),\n",
       " (Harry, 8),\n",
       " (Jen, 9),\n",
       " (Irene, 10)]"
      ]
     },
     "execution_count": 47,
     "metadata": {},
     "output_type": "execute_result"
    }
   ],
   "source": [
    "[(i, i.ind) for i in verts]"
   ]
  },
  {
   "cell_type": "code",
   "execution_count": 48,
   "metadata": {},
   "outputs": [
    {
     "data": {
      "text/plain": [
       "[True, False]"
      ]
     },
     "execution_count": 48,
     "metadata": {},
     "output_type": "execute_result"
    }
   ],
   "source": [
    "[1 in graph2, 56 in graph2]"
   ]
  },
  {
   "cell_type": "code",
   "execution_count": 49,
   "metadata": {},
   "outputs": [
    {
     "data": {
      "text/plain": [
       "[Bob, Carl, David, Ernst, Frank]"
      ]
     },
     "execution_count": 49,
     "metadata": {},
     "output_type": "execute_result"
    }
   ],
   "source": [
    "graph2.getNeighbours(1)"
   ]
  },
  {
   "cell_type": "code",
   "execution_count": 50,
   "metadata": {},
   "outputs": [],
   "source": [
    "graph2.saveGraph('lab2task1', 'graph1')"
   ]
  },
  {
   "cell_type": "code",
   "execution_count": 51,
   "metadata": {},
   "outputs": [
    {
     "data": {
      "text/plain": [
       "[(Alice, 0),\n",
       " (Bob, 1),\n",
       " (Carl, 1),\n",
       " (David, 1),\n",
       " (Ernst, 1),\n",
       " (Frank, 1),\n",
       " (Gail, 2),\n",
       " (Harry, 3),\n",
       " (Jen, 3),\n",
       " (Irene, 3)]"
      ]
     },
     "execution_count": 51,
     "metadata": {},
     "output_type": "execute_result"
    }
   ],
   "source": [
    "graph2.getShortestPaths(1)"
   ]
  },
  {
   "cell_type": "code",
   "execution_count": 52,
   "metadata": {},
   "outputs": [
    {
     "name": "stdout",
     "output_type": "stream",
     "text": [
      "graph graph1 {\n",
      "\tAlice -- Bob;\n",
      "\tAlice -- Carl;\n",
      "\tAlice -- David;\n",
      "\tAlice -- Ernst;\n",
      "\tAlice -- Frank;\n",
      "\tBob -- Gail;\n",
      "\tGail -- Harry;\n",
      "\tHarry -- Jen;\n",
      "\tJen -- Gail;\n",
      "\tHarry -- Irene;\n",
      "\tIrene -- Gail;\n",
      "\tIrene -- Jen;\n",
      "\tErnst -- Frank;\n",
      "\tDavid -- Carl;\n",
      "\tCarl -- Frank;\n",
      "}\n"
     ]
    }
   ],
   "source": [
    "f = open('lab2task1.txt', 'r')\n",
    "file_contents = f.read()\n",
    "print(file_contents)\n",
    "f.close()"
   ]
  },
  {
   "attachments": {
    "image.png": {
     "image/png": "[encoded data removed]"
    }
   },
   "cell_type": "markdown",
   "metadata": {},
   "source": [
    "Output from http://www.webgraphviz.com/: <br>\n",
    "\n",
    "![image.png](attachment:image.png)"
   ]
  },
  {
   "cell_type": "code",
   "execution_count": 70,
   "metadata": {},
   "outputs": [],
   "source": [
    "graph3 = Graph(gtype='Weighted')"
   ]
  },
  {
   "cell_type": "code",
   "execution_count": 71,
   "metadata": {},
   "outputs": [
    {
     "data": {
      "text/plain": [
       "[a]"
      ]
     },
     "execution_count": 71,
     "metadata": {},
     "output_type": "execute_result"
    }
   ],
   "source": [
    "graph3.addVertex('a')\n",
    "graph3.getVertices()"
   ]
  },
  {
   "cell_type": "code",
   "execution_count": 72,
   "metadata": {},
   "outputs": [
    {
     "data": {
      "text/plain": [
       "[a, a, b]"
      ]
     },
     "execution_count": 72,
     "metadata": {},
     "output_type": "execute_result"
    }
   ],
   "source": [
    "graph3.addVerticesFromList(['a', 'b'])\n",
    "graph3.getVertices()"
   ]
  },
  {
   "cell_type": "code",
   "execution_count": 73,
   "metadata": {},
   "outputs": [
    {
     "name": "stdout",
     "output_type": "stream",
     "text": [
      "Possible nodes with given label: [('a', 1), ('a', 2)]. Please select by reference key: 1\n"
     ]
    },
    {
     "data": {
      "text/plain": [
       "[(a, b, 0.5)]"
      ]
     },
     "execution_count": 73,
     "metadata": {},
     "output_type": "execute_result"
    }
   ],
   "source": [
    "graph3.addEdge('a', 'b', weight=1/2)\n",
    "graph3.getEdges()"
   ]
  },
  {
   "cell_type": "code",
   "execution_count": 74,
   "metadata": {},
   "outputs": [
    {
     "name": "stdout",
     "output_type": "stream",
     "text": [
      "Possible nodes with given label: [('a', 1), ('a', 2)]. Please select by reference key: 2\n"
     ]
    },
    {
     "data": {
      "text/plain": [
       "[(a, b, 0.5), (a, b, 0.2), (b, c, 0.4), (b, d, 0.4)]"
      ]
     },
     "execution_count": 74,
     "metadata": {},
     "output_type": "execute_result"
    }
   ],
   "source": [
    "graph3.addEdgesFromList([('a', 'b'), ('b', 'c'), ('b', 'd')], [1/5, 2/5, 2/5])\n",
    "graph3.getEdges()"
   ]
  },
  {
   "cell_type": "code",
   "execution_count": 75,
   "metadata": {},
   "outputs": [
    {
     "name": "stdout",
     "output_type": "stream",
     "text": [
      "Please give the name of the graph: graph3\n",
      "graph graph3 {\n",
      "\ta1 -- b [label=0.5];\n",
      "\ta2 -- b [label=0.2];\n",
      "\tb -- c [label=0.4];\n",
      "\tb -- d [label=0.4];\n",
      "}\n"
     ]
    }
   ],
   "source": [
    "print(str(graph3))"
   ]
  },
  {
   "cell_type": "code",
   "execution_count": 61,
   "metadata": {},
   "outputs": [
    {
     "data": {
      "text/plain": [
       "[a, a, b, c, d]"
      ]
     },
     "execution_count": 61,
     "metadata": {},
     "output_type": "execute_result"
    }
   ],
   "source": [
    "graph3.getVertices()"
   ]
  },
  {
   "cell_type": "code",
   "execution_count": 62,
   "metadata": {},
   "outputs": [
    {
     "data": {
      "text/plain": [
       "[True, False]"
      ]
     },
     "execution_count": 62,
     "metadata": {},
     "output_type": "execute_result"
    }
   ],
   "source": [
    "[3 in graph3, 103 in graph3]"
   ]
  },
  {
   "cell_type": "code",
   "execution_count": 63,
   "metadata": {},
   "outputs": [
    {
     "data": {
      "text/plain": [
       "[a, a, c, d]"
      ]
     },
     "execution_count": 63,
     "metadata": {},
     "output_type": "execute_result"
    }
   ],
   "source": [
    "graph3.getNeighbours(3)"
   ]
  },
  {
   "cell_type": "code",
   "execution_count": 64,
   "metadata": {},
   "outputs": [],
   "source": [
    "graph3.saveGraph('lab2task1b', 'graph2')"
   ]
  },
  {
   "cell_type": "code",
   "execution_count": 65,
   "metadata": {},
   "outputs": [
    {
     "data": {
      "text/plain": [
       "[(b, 0), (a, 1), (a, 1), (c, 1), (d, 1)]"
      ]
     },
     "execution_count": 65,
     "metadata": {},
     "output_type": "execute_result"
    }
   ],
   "source": [
    "graph3.getShortestPaths(3)"
   ]
  },
  {
   "cell_type": "code",
   "execution_count": 66,
   "metadata": {},
   "outputs": [
    {
     "name": "stdout",
     "output_type": "stream",
     "text": [
      "graph graph2 {\n",
      "\ta1 -- b [label=0.5];\n",
      "\ta2 -- b [label=0.2];\n",
      "\tb -- c [label=0.4];\n",
      "\tb -- d [label=0.4];\n",
      "}\n"
     ]
    }
   ],
   "source": [
    "f = open('lab2task1b.txt', 'r')\n",
    "file_contents = f.read()\n",
    "print(file_contents)\n",
    "f.close()"
   ]
  },
  {
   "attachments": {
    "image.png": {
     "image/png": "[encoded data removed]"
    }
   },
   "cell_type": "markdown",
   "metadata": {},
   "source": [
    "!![image.png](attachment:image.png)"
   ]
  },
  {
   "cell_type": "code",
   "execution_count": null,
   "metadata": {},
   "outputs": [],
   "source": []
  }
 ],
 "metadata": {
  "kernelspec": {
   "display_name": "Python 3 (ipykernel)",
   "language": "python",
   "name": "python3"
  },
  "language_info": {
   "codemirror_mode": {
    "name": "ipython",
    "version": 3
   },
   "file_extension": ".py",
   "mimetype": "text/x-python",
   "name": "python",
   "nbconvert_exporter": "python",
   "pygments_lexer": "ipython3",
   "version": "3.10.1"
  }
 },
 "nbformat": 4,
 "nbformat_minor": 4
}
