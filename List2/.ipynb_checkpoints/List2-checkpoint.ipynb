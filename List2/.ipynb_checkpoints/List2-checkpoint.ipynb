{
 "cells": [
  {
   "cell_type": "code",
   "execution_count": 2,
   "id": "52803ea0",
   "metadata": {},
   "outputs": [],
   "source": [
    "import matplotlib.pyplot as plt\n",
    "import numpy as np"
   ]
  },
  {
   "cell_type": "code",
   "execution_count": 239,
   "id": "68b16019",
   "metadata": {},
   "outputs": [],
   "source": [
    "class Graph:\n",
    "    def __init__(self, nodes = None, edges = None):\n",
    "        if (type(edges) or type(nodes)) is not list:\n",
    "            raise TypeError(\"Type of nodes should be a list, type of edges should be a list of tuples.\")\n",
    "        elif not all(isinstance(x, tuple) for x in edges):\n",
    "            raise TypeError(\"Type of Edges should be list of tuples\")\n",
    "        elif nodes and edges is None:\n",
    "            self.vertex = []\n",
    "            self.edges = []\n",
    "        elif not (all(x[0] in nodes for x in edges) and all(x[1] in nodes for x in edges)):\n",
    "            raise ValueError(\"There is extra vertex in edge list\")\n",
    "        else:\n",
    "            self.vertex = nodes\n",
    "            self.edges = edges\n",
    "\n",
    "    def add_vertex(self, vert):\n",
    "        if vert in self.vertex:\n",
    "            print(\"This node ({}) is already in vertex list\".format(vert))\n",
    "            self.vertex.remove(vert)\n",
    "        self.vertex.append(vert)\n",
    "        \n",
    "    def add_vertices_from_list(self, vert_list):\n",
    "        if type(vert_list) is not list:\n",
    "            raise TypeError(\"Vertex list should be a list type\")\n",
    "        for i in vert_list:\n",
    "            self.add_vertex(i)\n",
    "\n",
    "    def add_edge(self, from_vert, to_vert, weight = None):\n",
    "        if weight is None and len(edges[0]) == 3:\n",
    "            raise ValueError(\"You are missing weight of the node\")\n",
    "        if weight is None:\n",
    "            if (from_vert, to_vert) in edges or (to_vert, from_vert) in edges:\n",
    "                print(\"Edge {(from_vert, to_vert)} already exists\")\n",
    "        else:\n",
    "            if (from_vert, to_vert, weight) in edges or (to_vert, from_vert, weight) in edges:\n",
    "                print(\"Edge {(from_vert, to_vert, weight)} already exists\")\n",
    "        if not from_vert in self.vertex:\n",
    "            self.vertex.append(from_vert)\n",
    "        if not to_vert in self.vertex:\n",
    "            self.vertex.append(to_vert)\n",
    "        if weight is None:\n",
    "            self.edges.append((from_vert, to_vert))\n",
    "        else:\n",
    "            for i in range(len(edges)):\n",
    "                if len(edges[i]) < 3:\n",
    "                    edges[i] = edges[i] + (1,)\n",
    "            self.edges.append((from_vert, to_vert, weight))\n",
    "            \n",
    "    def add_edges_from_list(self, edge_list):\n",
    "        if edge_list is not list:\n",
    "            raise TypeError(\"Edge list should be a list type\")\n",
    "        for i in edge_list:\n",
    "            self.add_edge(i)\n",
    "            \n",
    "    def get_vertices(self):\n",
    "        return self.vertex"
   ]
  },
  {
   "cell_type": "code",
   "execution_count": 240,
   "id": "a862b3c7",
   "metadata": {},
   "outputs": [],
   "source": [
    "nodes = [1, 2, 3, 4, 5]\n",
    "edges = [(1, 2), (2, 3), (3, 4), (4, 5), (2, 5)]"
   ]
  },
  {
   "cell_type": "code",
   "execution_count": 241,
   "id": "3e0ed60b",
   "metadata": {},
   "outputs": [],
   "source": [
    "G = Graph(nodes, edges)"
   ]
  },
  {
   "cell_type": "code",
   "execution_count": 248,
   "id": "4de7e854",
   "metadata": {},
   "outputs": [
    {
     "data": {
      "text/plain": [
       "<bound method Graph.get_vertices of <__main__.Graph object at 0x000001EA0C4263E0>>"
      ]
     },
     "execution_count": 248,
     "metadata": {},
     "output_type": "execute_result"
    }
   ],
   "source": [
    "G.get_vertices"
   ]
  },
  {
   "cell_type": "code",
   "execution_count": 243,
   "id": "65bd5ba2",
   "metadata": {},
   "outputs": [],
   "source": [
    "l = [1, 7, 8]"
   ]
  },
  {
   "cell_type": "code",
   "execution_count": 244,
   "id": "f8d01e11",
   "metadata": {},
   "outputs": [
    {
     "name": "stdout",
     "output_type": "stream",
     "text": [
      "This node (1) is already in vertex list\n"
     ]
    }
   ],
   "source": [
    "G.add_vertices_from_list(l)"
   ]
  },
  {
   "cell_type": "code",
   "execution_count": 245,
   "id": "c2176291",
   "metadata": {},
   "outputs": [
    {
     "data": {
      "text/plain": [
       "[(1, 2), (2, 3), (3, 4), (4, 5), (2, 5)]"
      ]
     },
     "execution_count": 245,
     "metadata": {},
     "output_type": "execute_result"
    }
   ],
   "source": [
    "G.edges"
   ]
  },
  {
   "cell_type": "code",
   "execution_count": 246,
   "id": "d0c0df57",
   "metadata": {},
   "outputs": [],
   "source": [
    "G.add_edge(1, 5, 3)"
   ]
  },
  {
   "cell_type": "code",
   "execution_count": 166,
   "id": "3896e698",
   "metadata": {},
   "outputs": [
    {
     "data": {
      "text/plain": [
       "(1, 2, 3, 4)"
      ]
     },
     "execution_count": 166,
     "metadata": {},
     "output_type": "execute_result"
    }
   ],
   "source": [
    "(1, 2, 3) + (4,)"
   ]
  },
  {
   "cell_type": "code",
   "execution_count": null,
   "id": "7c47d56b",
   "metadata": {},
   "outputs": [],
   "source": []
  },
  {
   "cell_type": "code",
   "execution_count": null,
   "id": "7633a861",
   "metadata": {},
   "outputs": [],
   "source": []
  },
  {
   "cell_type": "code",
   "execution_count": null,
   "id": "7f0b38c0",
   "metadata": {},
   "outputs": [],
   "source": []
  },
  {
   "cell_type": "code",
   "execution_count": null,
   "id": "3582bf4d",
   "metadata": {},
   "outputs": [],
   "source": []
  },
  {
   "cell_type": "code",
   "execution_count": null,
   "id": "a9cf7b46",
   "metadata": {},
   "outputs": [],
   "source": []
  }
 ],
 "metadata": {
  "kernelspec": {
   "display_name": "Python 3 (ipykernel)",
   "language": "python",
   "name": "python3"
  },
  "language_info": {
   "codemirror_mode": {
    "name": "ipython",
    "version": 3
   },
   "file_extension": ".py",
   "mimetype": "text/x-python",
   "name": "python",
   "nbconvert_exporter": "python",
   "pygments_lexer": "ipython3",
   "version": "3.10.1"
  }
 },
 "nbformat": 4,
 "nbformat_minor": 5
}
